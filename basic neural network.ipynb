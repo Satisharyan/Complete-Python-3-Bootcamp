{
  "nbformat": 4,
  "nbformat_minor": 0,
  "metadata": {
    "colab": {
      "name": "Untitled37.ipynb",
      "provenance": [],
      "collapsed_sections": [],
      "authorship_tag": "ABX9TyMwYgd/PdixjvyxNaIqQJtk",
      "include_colab_link": true
    },
    "kernelspec": {
      "name": "python3",
      "display_name": "Python 3"
    },
    "accelerator": "GPU"
  },
  "cells": [
    {
      "cell_type": "markdown",
      "metadata": {
        "id": "view-in-github",
        "colab_type": "text"
      },
      "source": [
        "<a href=\"https://colab.research.google.com/github/Satisharyan/Complete-Python-3-Bootcamp/blob/master/basic%20neural%20network.ipynb\" target=\"_parent\"><img src=\"https://colab.research.google.com/assets/colab-badge.svg\" alt=\"Open In Colab\"/></a>"
      ]
    },
    {
      "cell_type": "code",
      "metadata": {
        "id": "be66t_47AO1R",
        "colab_type": "code",
        "colab": {}
      },
      "source": [
        "import numpy as np\n",
        "import tensorflow as tf"
      ],
      "execution_count": 0,
      "outputs": []
    },
    {
      "cell_type": "markdown",
      "metadata": {
        "id": "XymIK9mGKk4V",
        "colab_type": "text"
      },
      "source": [
        "##Importing the lab's we need. In this tutorial we use tensorflow and numpy\n",
        "##tensorflow is used computed gpu\n",
        "## numpy is used for calculations just using mathematical functions"
      ]
    },
    {
      "cell_type": "code",
      "metadata": {
        "id": "MYkzwNHmB4IH",
        "colab_type": "code",
        "colab": {}
      },
      "source": [
        "pounds_values = np.array([1.0,2.0,3.0,4.0,5.0,6.0,7.0,8.0,9.0,10.0],dtype =float)"
      ],
      "execution_count": 0,
      "outputs": []
    },
    {
      "cell_type": "markdown",
      "metadata": {
        "id": "1h2pXxgNMfF7",
        "colab_type": "text"
      },
      "source": [
        "##we take pounds values from 1 to 10"
      ]
    },
    {
      "cell_type": "code",
      "metadata": {
        "id": "PnaJxd5PCfND",
        "colab_type": "code",
        "colab": {
          "base_uri": "https://localhost:8080/",
          "height": 34
        },
        "outputId": "812760b2-d118-4bfe-934d-49f919f6e733"
      },
      "source": [
        "pounds_values.shape"
      ],
      "execution_count": 3,
      "outputs": [
        {
          "output_type": "execute_result",
          "data": {
            "text/plain": [
              "(10,)"
            ]
          },
          "metadata": {
            "tags": []
          },
          "execution_count": 3
        }
      ]
    },
    {
      "cell_type": "markdown",
      "metadata": {
        "id": "aun_MsD3NBwh",
        "colab_type": "text"
      },
      "source": [
        "##lets checks the shape of the numpy array"
      ]
    },
    {
      "cell_type": "code",
      "metadata": {
        "id": "h_hrufrjCgtb",
        "colab_type": "code",
        "colab": {}
      },
      "source": [
        "kg = np.array([0.45,0.90,1.36,1.81,2.26,2.72,3.17,3.62,4.08,4.53],dtype=float)"
      ],
      "execution_count": 0,
      "outputs": []
    },
    {
      "cell_type": "markdown",
      "metadata": {
        "id": "1JbD-4KkNLeP",
        "colab_type": "text"
      },
      "source": [
        "##we take kgs from 1 to 10 that are converted into pounds to kgs"
      ]
    },
    {
      "cell_type": "code",
      "metadata": {
        "id": "svoa0POHDA5v",
        "colab_type": "code",
        "colab": {}
      },
      "source": [
        "model = tf.keras.Sequential([tf.keras.layers.Dense(units=1,input_shape=[1])])"
      ],
      "execution_count": 0,
      "outputs": []
    },
    {
      "cell_type": "markdown",
      "metadata": {
        "id": "uyt6Ga4YNZeG",
        "colab_type": "text"
      },
      "source": [
        "##we use single hidden layer thats dense layer"
      ]
    },
    {
      "cell_type": "code",
      "metadata": {
        "id": "6v4ldC1GDM--",
        "colab_type": "code",
        "colab": {}
      },
      "source": [
        "model.compile(optimizer=\"sgd\",loss=tf.losses.mean_squared_error)"
      ],
      "execution_count": 0,
      "outputs": []
    },
    {
      "cell_type": "code",
      "metadata": {
        "id": "WqFsfZQvDZ3p",
        "colab_type": "code",
        "colab": {
          "base_uri": "https://localhost:8080/",
          "height": 34
        },
        "outputId": "f073ef47-9d84-4e92-f198-72af711404c5"
      },
      "source": [
        "model.fit(pounds_values,kg,epochs=500,verbose=False)"
      ],
      "execution_count": 8,
      "outputs": [
        {
          "output_type": "execute_result",
          "data": {
            "text/plain": [
              "<tensorflow.python.keras.callbacks.History at 0x7f399e731b38>"
            ]
          },
          "metadata": {
            "tags": []
          },
          "execution_count": 8
        }
      ]
    },
    {
      "cell_type": "code",
      "metadata": {
        "id": "jhd6bLRdDhrk",
        "colab_type": "code",
        "colab": {
          "base_uri": "https://localhost:8080/",
          "height": 34
        },
        "outputId": "722d4c46-ff72-4645-94c8-290186e9b797"
      },
      "source": [
        "print(model.predict([293]))"
      ],
      "execution_count": 9,
      "outputs": [
        {
          "output_type": "stream",
          "text": [
            "[[131.38953]]\n"
          ],
          "name": "stdout"
        }
      ]
    },
    {
      "cell_type": "code",
      "metadata": {
        "id": "ityEypzhENn3",
        "colab_type": "code",
        "colab": {}
      },
      "source": [
        ""
      ],
      "execution_count": 0,
      "outputs": []
    }
  ]
}